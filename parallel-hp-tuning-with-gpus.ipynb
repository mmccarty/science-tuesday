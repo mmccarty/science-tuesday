{
 "cells": [
  {
   "cell_type": "code",
   "execution_count": null,
   "id": "valuable-surprise",
   "metadata": {},
   "outputs": [],
   "source": [
    "from sklearn.model_selection import train_test_split\n",
    "from sklearn.datasets import load_breast_cancer\n",
    "from sklearn.metrics import accuracy_score\n",
    "\n",
    "import numpy as np\n",
    "import pandas as pd\n",
    "import optuna\n",
    "import xgboost as xgb"
   ]
  },
  {
   "cell_type": "code",
   "execution_count": null,
   "id": "hidden-mistake",
   "metadata": {},
   "outputs": [],
   "source": [
    "class Objective:\n",
    "    def __init__(self, X, y, split_func, use_gpus=False):\n",
    "        train_x, valid_x, train_y, valid_y = split_func(X, y, test_size=0.25)\n",
    "        \n",
    "        self.dtrain = xgb.DMatrix(train_x, label=train_y)\n",
    "        self.dvalid = xgb.DMatrix(valid_x, label=valid_y)\n",
    "        self.valid_y = valid_y\n",
    "        self.use_gpus = use_gpus\n",
    "        self.gpu_status = [0 for _ in range(8)]\n",
    "        \n",
    "    def get_next_gpu(self):\n",
    "        for gpu_id, stat in enumerate(self.gpu_status):\n",
    "            if stat == 0:\n",
    "                next_gpu = gpu_id\n",
    "                break\n",
    "        self.gpu_status[next_gpu] = 1\n",
    "        return next_gpu\n",
    "    \n",
    "    def __call__(self, trial):\n",
    "        params = {\n",
    "            \"alpha\": trial.suggest_float(\"alpha\", 1e-8, 1.0, log=True),\n",
    "            \"max_depth\": trial.suggest_int(\"max_depth\", 1, 9),\n",
    "            \"eta\": trial.suggest_float(\"eta\", 1e-8, 1.0, log=True),\n",
    "            \"gamma\": trial.suggest_float(\"gamma\", 1e-8, 1.0, log=True),\n",
    "            \"grow_policy\": trial.suggest_categorical(\"grow_policy\", [\"depthwise\", \"lossguide\"]),\n",
    "        }\n",
    "        \n",
    "        if self.use_gpus:\n",
    "            gpu_id = self.get_next_gpu()\n",
    "            params[\"gpu_id\"] = gpu_id\n",
    "            params[\"tree_method\"] = \"gpu_hist\"\n",
    "        \n",
    "        bst = xgb.train(params, self.dtrain)\n",
    "        preds = bst.predict(self.dvalid)\n",
    "        pred_labels = np.rint(preds)\n",
    "        accuracy = accuracy_score(self.valid_y, pred_labels)\n",
    "        return accuracy"
   ]
  },
  {
   "cell_type": "code",
   "execution_count": null,
   "id": "quarterly-stereo",
   "metadata": {},
   "outputs": [],
   "source": [
    "from sklearn.datasets import make_classification\n",
    "\n",
    "X, y = make_classification(\n",
    "    n_samples=100_000,\n",
    "    n_features=100,\n",
    "    weights=[0.75, 0.25],\n",
    "    flip_y=0.75,\n",
    "    random_state=123,\n",
    ")\n",
    "\n",
    "objective = Objective(X, y, train_test_split)\n",
    "study = optuna.create_study(direction=\"maximize\")"
   ]
  },
  {
   "cell_type": "code",
   "execution_count": null,
   "id": "narrow-american",
   "metadata": {},
   "outputs": [],
   "source": [
    "%%time\n",
    "study.optimize(objective, n_trials=100, timeout=600)"
   ]
  },
  {
   "cell_type": "code",
   "execution_count": null,
   "id": "hispanic-heaven",
   "metadata": {},
   "outputs": [],
   "source": [
    "print(\"Number of finished trials: \", len(study.trials))\n",
    "print(\"Best trial:\")\n",
    "trial = study.best_trial\n",
    "\n",
    "print(\"  Value: {}\".format(trial.value))\n",
    "print(\"  Params: \")\n",
    "for key, value in trial.params.items():\n",
    "    print(\"    {}: {}\".format(key, value))"
   ]
  },
  {
   "cell_type": "markdown",
   "id": "better-pointer",
   "metadata": {},
   "source": [
    "# Use Multi GPUs\n",
    "Only if our data fits onto a single GPU!"
   ]
  },
  {
   "cell_type": "code",
   "execution_count": null,
   "id": "headed-movement",
   "metadata": {},
   "outputs": [],
   "source": [
    "objective = Objective(X, y, train_test_split, use_gpus=True)\n",
    "study = optuna.create_study(direction=\"maximize\")"
   ]
  },
  {
   "cell_type": "code",
   "execution_count": null,
   "id": "demanding-latitude",
   "metadata": {},
   "outputs": [],
   "source": [
    "%%time\n",
    "study.optimize(objective, n_trials=100, timeout=600)"
   ]
  },
  {
   "cell_type": "code",
   "execution_count": null,
   "id": "crude-recipient",
   "metadata": {},
   "outputs": [],
   "source": [
    "print(\"Number of finished trials: \", len(study.trials))\n",
    "print(\"Best trial:\")\n",
    "trial = study.best_trial\n",
    "\n",
    "print(\"  Value: {}\".format(trial.value))\n",
    "print(\"  Params: \")\n",
    "for key, value in trial.params.items():\n",
    "    print(\"    {}: {}\".format(key, value))"
   ]
  }
 ],
 "metadata": {
  "kernelspec": {
   "display_name": "Python 3",
   "language": "python",
   "name": "python3"
  },
  "language_info": {
   "codemirror_mode": {
    "name": "ipython",
    "version": 3
   },
   "file_extension": ".py",
   "mimetype": "text/x-python",
   "name": "python",
   "nbconvert_exporter": "python",
   "pygments_lexer": "ipython3",
   "version": "3.8.6"
  }
 },
 "nbformat": 4,
 "nbformat_minor": 5
}
